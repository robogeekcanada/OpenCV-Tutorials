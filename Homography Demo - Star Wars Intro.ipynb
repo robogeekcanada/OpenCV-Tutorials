{
 "cells": [
  {
   "cell_type": "markdown",
   "metadata": {},
   "source": [
    "## Homography Demo - Star Wars Intro\n",
    "\n",
    "Copyright (c) [2020] [Robo-Geek Inc Canada www.robo-geek.ca]"
   ]
  },
  {
   "cell_type": "code",
   "execution_count": 5,
   "metadata": {},
   "outputs": [],
   "source": [
    "#Source and Destination images are the same initially\n",
    "#but we will write the text in source and paste in\n",
    "#the selected region using homography\n",
    "\n",
    "import cv2\n",
    "import numpy as np\n",
    "\n",
    "\n",
    "font = cv2.FONT_HERSHEY_SIMPLEX\n",
    "GOLD = (0,215,255)\n",
    "font_size = 2\n",
    "thickness = 4\n",
    "\n",
    "#Source image and capture dimensions\n",
    "frame = cv2.imread('starry_sky.jpg')\n",
    "size = frame.shape\n",
    "frame_width = size[1] -1 \n",
    "frame_height = size[0] -1"
   ]
  },
  {
   "cell_type": "code",
   "execution_count": 6,
   "metadata": {},
   "outputs": [],
   "source": [
    "#Star Wars intro text\n",
    "intro_msg =[\n",
    "\"       Episode VIII\",\n",
    "\"       THE LAST JEDI\",\n",
    "\" \",\n",
    "\"The FIRST ORDER reigns.\", \n",
    "\"Having decimated the peaceful\",\n",
    "\"Republic, Supreme Leader Snoke\",\n",
    "\"now deploys his merciless legions\",\n",
    "\"to seize military control of the galaxy.\",\n",
    "\"Only General Leia Organa's band of\",\n",
    "\"RESISTANCE fighters stand against\",\n",
    "\"the rising tyranny, certain that\",\n",
    "\"Jedi Master Luke Skywalker will\",\n",
    "\"return and restore a spark of hope\",\n",
    "\"to the fight. But the Resistance\",\n",
    "\"has been exposed. As the First\",\n",
    "\"Order speeds toward the rebel\",\n",
    "\"base, the brave heroes mount a\",\n",
    "\"desperate escape....\"\n",
    "\n",
    "]"
   ]
  },
  {
   "cell_type": "code",
   "execution_count": 7,
   "metadata": {},
   "outputs": [],
   "source": [
    "#spacing starts 80% towards the bottom of the screen\n",
    "#and increases gradually. SPEED is inversely proportional\n",
    "frame_counter = 0\n",
    "spacing = 0.8\n",
    "SPEED = 15"
   ]
  },
  {
   "cell_type": "code",
   "execution_count": 8,
   "metadata": {},
   "outputs": [],
   "source": [
    "while True and frame_counter < 800:\n",
    "\n",
    "    frame = cv2.imread('starry_sky.jpg')\n",
    "\n",
    "\n",
    "    if frame_counter % SPEED == 0:\n",
    "\n",
    "        #Move up every cycle\n",
    "        spacing = 0.8 - (frame_counter/SPEED)*0.05\n",
    "\n",
    "        for line in intro_msg:\n",
    "\n",
    "            cv2.putText(frame,line,(0,int(frame_height*spacing)),\n",
    "                    font, font_size, GOLD,thickness)\n",
    "            \n",
    "            spacing +=0.15 #Space between lines\n",
    "\n",
    "\n",
    "        #Source points\n",
    "        pts_src = np.array([[0,0], [frame_width, 0], [frame_width, frame_height],\n",
    "                            [0, frame_height]],dtype=float)\n",
    "\n",
    "\n",
    "        # Read destination image\n",
    "        img_dst = cv2.imread('starry_sky.jpg')\n",
    "        img_dst_width = img_dst.shape[1]\n",
    "        img_dst_height = img_dst.shape[0]\n",
    "\n",
    "        pts_dst = np.float32([[374, 233], [802,233],\n",
    "                    [1200, 768], [100, 768]]).reshape(-1,2)\n",
    "\n",
    "        # Calculate Homography\n",
    "        h, status = cv2.findHomography(pts_src, pts_dst)\n",
    "\n",
    "        # Warp source image. \n",
    "        img_with_text = cv2.warpPerspective(frame, h,\n",
    "                                            (img_dst_width,img_dst_height))\n",
    "\n",
    "        # Black out original polygon\n",
    "        cv2.fillConvexPoly(img_dst, pts_dst.astype(int), 0, 16)\n",
    "\n",
    "        #cv2.imshow(\"img_with_text\", img_with_text)\n",
    "\n",
    "\n",
    "        # Add warped source image to destination image.\n",
    "        img_dst = img_dst + img_with_text\n",
    "\n",
    "        # Display image.\n",
    "        cv2.imshow(\"Star Wars Intro\", img_dst)\n",
    "\n",
    "    frame_counter += 1\n",
    "\n",
    "\n",
    "    if cv2.waitKey(1) == 27:\n",
    "            break\n",
    "\n",
    "cv2.destroyAllWindows()"
   ]
  },
  {
   "cell_type": "markdown",
   "metadata": {},
   "source": [
    "\n",
    "### MIT License¶\n",
    "\n",
    "Copyright (c) [2020] [Robo-Geek Inc Canada www.robo-geek.ca] Permission is hereby granted, free of charge, to any person obtaining a copy of this software and associated documentation files (the \"Software\"), to deal in the Software without restriction, including without limitation the rights to use, copy, modify, merge, publish, distribute, sublicense, and/or sell copies of the Software, and to permit persons to whom the Software is furnished to do so, subject to the following conditions: The above copyright notice and this permission notice shall be included in all copies or substantial portions of the Software. THE SOFTWARE IS PROVIDED \"AS IS\", WITHOUT WARRANTY OF ANY KIND, EXPRESS OR IMPLIED, INCLUDING BUT NOT LIMITED TO THE WARRANTIES OF MERCHANTABILITY, FITNESS FOR A PARTICULAR PURPOSE AND NONINFRINGEMENT. IN NO EVENT SHALL THE AUTHORS OR COPYRIGHT HOLDERS BE LIABLE FOR ANY CLAIM, DAMAGES OR OTHER LIABILITY, WHETHER IN AN ACTION OF CONTRACT, TORT OR OTHERWISE, ARISING FROM, OUT OF OR IN CONNECTION WITH THE SOFTWARE OR THE USE OR OTHER DEALINGS IN THE SOFTWARE"
   ]
  },
  {
   "cell_type": "code",
   "execution_count": null,
   "metadata": {},
   "outputs": [],
   "source": []
  }
 ],
 "metadata": {
  "kernelspec": {
   "display_name": "Python 3",
   "language": "python",
   "name": "python3"
  },
  "language_info": {
   "codemirror_mode": {
    "name": "ipython",
    "version": 3
   },
   "file_extension": ".py",
   "mimetype": "text/x-python",
   "name": "python",
   "nbconvert_exporter": "python",
   "pygments_lexer": "ipython3",
   "version": "3.6.8"
  }
 },
 "nbformat": 4,
 "nbformat_minor": 2
}
