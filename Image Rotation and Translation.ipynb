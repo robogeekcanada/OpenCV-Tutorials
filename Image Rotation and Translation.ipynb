{
 "cells": [
  {
   "cell_type": "markdown",
   "metadata": {},
   "source": [
    "## Image Rotation and Translation\n",
    "\n",
    "Copyright (c) [2020] [Robo-Geek Inc Canada www.robo-geek.ca]"
   ]
  },
  {
   "cell_type": "code",
   "execution_count": 1,
   "metadata": {},
   "outputs": [],
   "source": [
    "import cv2\n",
    "import numpy as np\n",
    "\n",
    "# Read image and determine width and height\n",
    "img = cv2.imread('RG-logo.jpg')\n",
    "width, height = img.shape[:2]"
   ]
  },
  {
   "cell_type": "code",
   "execution_count": 2,
   "metadata": {},
   "outputs": [],
   "source": [
    "center = (int(width/2), int(height/2))\n",
    "rotation_scale = 0.75\n",
    "output_scale = (int(width*1.25),int(height*1.25))\n",
    "\n",
    "for angle in range(0,361,5):\n",
    "    rotation_matrix = cv2.getRotationMatrix2D(center, angle, rotation_scale)\n",
    "    #print(rotation_matrix)\n",
    "    \n",
    "    img_rotated = cv2.warpAffine(img, rotation_matrix, output_scale)\n",
    "    cv2.waitKey(50)\n",
    "    cv2.imshow('Rotation Demo', img_rotated)"
   ]
  },
  {
   "cell_type": "code",
   "execution_count": 3,
   "metadata": {},
   "outputs": [],
   "source": [
    "#Translation right and down in increments of 2\n",
    "y = 0\n",
    "increment = 2\n",
    "output_scale = (int(width*1.25),int(height*1.25))\n",
    "\n",
    "for x in range(0, int(width/2), increment):\n",
    "    \n",
    "    translation_matrix = np.float32([[1,0,x], [0,1,y]])\n",
    "    if y < int(height/2):\n",
    "        y +=increment\n",
    "\n",
    "    img_translated = cv2.warpAffine(img, translation_matrix, output_scale)\n",
    "    cv2.waitKey(50)\n",
    "    cv2.imshow(\"Translation Demo\", img_translated)"
   ]
  },
  {
   "cell_type": "markdown",
   "metadata": {},
   "source": [
    "\n",
    "### MIT License¶\n",
    "\n",
    "Copyright (c) [2020] [Robo-Geek Inc Canada www.robo-geek.ca] Permission is hereby granted, free of charge, to any person obtaining a copy of this software and associated documentation files (the \"Software\"), to deal in the Software without restriction, including without limitation the rights to use, copy, modify, merge, publish, distribute, sublicense, and/or sell copies of the Software, and to permit persons to whom the Software is furnished to do so, subject to the following conditions: The above copyright notice and this permission notice shall be included in all copies or substantial portions of the Software. THE SOFTWARE IS PROVIDED \"AS IS\", WITHOUT WARRANTY OF ANY KIND, EXPRESS OR IMPLIED, INCLUDING BUT NOT LIMITED TO THE WARRANTIES OF MERCHANTABILITY, FITNESS FOR A PARTICULAR PURPOSE AND NONINFRINGEMENT. IN NO EVENT SHALL THE AUTHORS OR COPYRIGHT HOLDERS BE LIABLE FOR ANY CLAIM, DAMAGES OR OTHER LIABILITY, WHETHER IN AN ACTION OF CONTRACT, TORT OR OTHERWISE, ARISING FROM, OUT OF OR IN CONNECTION WITH THE SOFTWARE OR THE USE OR OTHER DEALINGS IN THE SOFTWARE"
   ]
  }
 ],
 "metadata": {
  "kernelspec": {
   "display_name": "Python 3",
   "language": "python",
   "name": "python3"
  },
  "language_info": {
   "codemirror_mode": {
    "name": "ipython",
    "version": 3
   },
   "file_extension": ".py",
   "mimetype": "text/x-python",
   "name": "python",
   "nbconvert_exporter": "python",
   "pygments_lexer": "ipython3",
   "version": "3.6.8"
  }
 },
 "nbformat": 4,
 "nbformat_minor": 2
}
